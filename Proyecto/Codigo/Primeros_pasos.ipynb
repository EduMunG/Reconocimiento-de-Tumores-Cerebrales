{
 "cells": [
  {
   "cell_type": "markdown",
   "id": "8a9bc3fb",
   "metadata": {},
   "source": [
    "# Aquí empieza la replica del articulo orignial."
   ]
  },
  {
   "cell_type": "markdown",
   "id": "9526c14b",
   "metadata": {},
   "source": [
    "## Bibliotecas"
   ]
  },
  {
   "cell_type": "code",
   "execution_count": 2,
   "id": "6cf436d0",
   "metadata": {},
   "outputs": [],
   "source": [
    "import pandas as pd\n",
    "import sklearn\n",
    "import sys\n",
    "from os import listdir\n",
    "import matplotlib as mpl\n",
    "import os\n",
    "from matplotlib import image\n",
    "from matplotlib import pyplot as plt\n",
    "import h5py\n",
    "import cv2\n",
    "from sklearn.model_selection import train_test_split\n",
    "from sklearn.metrics import classification_report\n",
    "import numpy as np\n",
    "import tensorflow as tf\n",
    "from tensorflow import keras as K\n",
    "import pennylane as qml\n",
    "from timeit import default_timer as timer\n",
    "from datetime import timedelta\n",
    "import seaborn as sns\n",
    "from datetime import datetime, timedelta\n",
    "import random\n",
    "from tqdm.notebook import trange"
   ]
  },
  {
   "cell_type": "code",
   "execution_count": 6,
   "id": "50084f71",
   "metadata": {},
   "outputs": [
    {
     "name": "stdout",
     "output_type": "stream",
     "text": [
      "Label: 1.0\n",
      "PID: [49]\n",
      "Forma de imagen: (512,)\n",
      "Borde del tumor: (38,)\n",
      "Mascara del tumor: (512, 512)\n"
     ]
    }
   ],
   "source": [
    "arch = \"../DataSet/Tumores/1.mat\"\n",
    "data = h5py.File(arch, 'r')\n",
    "label = data['cjdata']['label'][0][0]\n",
    "pid = data['cjdata']['PID'][0]\n",
    "imagen = data['cjdata']['image'][0]\n",
    "borde_tumor = data['cjdata']['tumorBorder'][0]\n",
    "mascara_tumor = data['cjdata']['tumorMask']\n",
    "\n",
    "print(\"Label:\", label)\n",
    "print(\"PID:\", pid)\n",
    "print(\"Forma de imagen:\", imagen.shape)\n",
    "print(\"Borde del tumor:\", borde_tumor.shape)\n",
    "print(\"Mascara del tumor:\", mascara_tumor.shape)"
   ]
  }
 ],
 "metadata": {
  "kernelspec": {
   "display_name": "TT",
   "language": "python",
   "name": "python3"
  },
  "language_info": {
   "codemirror_mode": {
    "name": "ipython",
    "version": 3
   },
   "file_extension": ".py",
   "mimetype": "text/x-python",
   "name": "python",
   "nbconvert_exporter": "python",
   "pygments_lexer": "ipython3",
   "version": "3.10.18"
  }
 },
 "nbformat": 4,
 "nbformat_minor": 5
}
