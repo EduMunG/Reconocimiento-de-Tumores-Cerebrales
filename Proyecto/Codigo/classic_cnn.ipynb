{
 "cells": [
  {
   "cell_type": "code",
   "execution_count": 2,
   "id": "f979abb9",
   "metadata": {},
   "outputs": [],
   "source": [
    "# Activar el entorno de conda\n",
    "import os\n",
    "from pathlib import Path\n",
    "import h5py\n",
    "import numpy as np\n",
    "import cv2\n",
    "from collections import defaultdict\n",
    "\n",
    "from sklearn.model_selection import train_test_split\n",
    "\n",
    "import tensorflow as tf\n",
    "from tensorflow import keras\n",
    "from tensorflow.keras import layers, Sequential\n"
   ]
  },
  {
   "cell_type": "code",
   "execution_count": 3,
   "id": "6fce0e29",
   "metadata": {},
   "outputs": [
    {
     "name": "stdout",
     "output_type": "stream",
     "text": [
      "TF: 2.10.0\n",
      "No hay GPU visible: se usará CPU\n"
     ]
    }
   ],
   "source": [
    "print(\"TF:\", tf.__version__)\n",
    "gpus = tf.config.list_physical_devices('GPU')\n",
    "if gpus:\n",
    "    for gpu in gpus:\n",
    "        tf.config.experimental.set_memory_growth(gpu, True)\n",
    "    print(\"GPUs visibles:\", tf.config.list_logical_devices('GPU'))\n",
    "else:\n",
    "    print(\"No hay GPU visible: se usará CPU\")\n",
    "# Opcional para ver en qué dispositivo corre cada op:\n",
    "# tf.debugging.set_log_device_placement(True)\n"
   ]
  },
  {
   "cell_type": "code",
   "execution_count": null,
   "id": "d5e00573",
   "metadata": {},
   "outputs": [],
   "source": [
    "# Ruta del dataset \n",
    "DATA_DIR = Path(\"../DataSet/Tumores\")\n",
    "\n",
    "# Clases en CJDATA: 1=Meningioma, 2=Glioma, 3=Adenoma_hipofisario\n",
    "label_to_name = {\n",
    "    0: \"Meningioma\",\n",
    "    1: \"Glioma\",\n",
    "    2: \"Adenoma_hipofisario\",\n",
    "}\n",
    "class_names = [label_to_name[i] for i in sorted(label_to_name.keys())]\n",
    "\n",
    "# Imagen y entrenamiento\n",
    "img_size = (128, 128)   # (H, W) para TensorFlow; OpenCV usa (W, H) en resize\n",
    "batch = 32\n",
    "AUTOTUNE = tf.data.AUTOTUNE\n"
   ]
  },
  {
   "cell_type": "code",
   "execution_count": 5,
   "id": "638a2bc6",
   "metadata": {},
   "outputs": [],
   "source": [
    "def preprocess_one(image, mask):\n",
    "    # OpenCV: resize(tam=(W,H)) — como 128 es cuadrado, no afecta, pero se deja explícito.\n",
    "    image_resized = cv2.resize(image, (img_size[1], img_size[0]))\n",
    "    mask_resized  = cv2.resize(mask,  (img_size[1], img_size[0])) \n",
    "\n",
    "    image_norm = cv2.normalize(\n",
    "        image_resized, None,\n",
    "        alpha=0, beta=255,\n",
    "        norm_type=cv2.NORM_MINMAX, dtype=cv2.CV_32F\n",
    "    ).astype(np.uint8)\n",
    "\n",
    "    tumor_image = image_norm * mask_resized\n",
    "    return tumor_image  # (H,W) uint8\n"
   ]
  },
  {
   "cell_type": "code",
   "execution_count": 6,
   "id": "e47cb774",
   "metadata": {},
   "outputs": [
    {
     "name": "stdout",
     "output_type": "stream",
     "text": [
      "Dataset total: (3064, 128, 128, 1) Etiquetas: (3064,)\n",
      "Distribución de clases: {'Meningioma': 708, 'Glioma': 1426, 'Adenoma_hipofisario': 930}\n"
     ]
    }
   ],
   "source": [
    "if not DATA_DIR.exists():\n",
    "    raise FileNotFoundError(f\"No se encontró la ruta del dataset: {DATA_DIR.resolve()}\")\n",
    "\n",
    "mat_files = sorted(DATA_DIR.glob(\"*.mat\"))\n",
    "if not mat_files:\n",
    "    raise FileNotFoundError(f\"No hay archivos .mat en {DATA_DIR.resolve()}\")\n",
    "\n",
    "data_by_tumor = defaultdict(list)\n",
    "labels_by_tumor = defaultdict(list)\n",
    "\n",
    "for f in mat_files:\n",
    "    try:\n",
    "        with h5py.File(str(f), \"r\") as h5:\n",
    "            label = int(h5[\"cjdata\"][\"label\"][0][0]) - 1\n",
    "            if label not in label_to_name:\n",
    "                continue\n",
    "\n",
    "            image = np.array(h5[\"cjdata\"][\"image\"])\n",
    "            mask  = np.array(h5[\"cjdata\"][\"tumorMask\"])\n",
    "\n",
    "            if image.ndim != 2 or mask.ndim != 2:\n",
    "                raise ValueError(f\"{f.name}: image/mask deben ser 2D; got image.ndim={image.ndim}, mask.ndim={mask.ndim}\")\n",
    "\n",
    "            tumor_img = preprocess_one(image, mask)\n",
    "\n",
    "            data_by_tumor[label].append(tumor_img)\n",
    "            labels_by_tumor[label].append(label)\n",
    "    except Exception as e:\n",
    "        print(f\"[AVISO] Error procesando {f.name}: {e}\")\n",
    "\n",
    "# Unir todas las clases en X, y\n",
    "Xs, ys = [], []\n",
    "for lab in sorted(label_to_name.keys()):\n",
    "    imgs = data_by_tumor.get(lab, [])\n",
    "    labs = labels_by_tumor.get(lab, [])\n",
    "    if imgs:\n",
    "        Xs.append(np.stack(imgs, axis=0))        # (Ni, H, W)\n",
    "        ys.append(np.array(labs, dtype=np.int32))\n",
    "    else:\n",
    "        print(f\"[AVISO] Clase {lab} ({label_to_name[lab]}) sin muestras.\")\n",
    "\n",
    "if not Xs:\n",
    "    raise RuntimeError(\"No se pudo construir el dataset (Xs vacío).\")\n",
    "\n",
    "X = np.concatenate(Xs, axis=0)                  # (N, H, W)\n",
    "y = np.concatenate(ys, axis=0)                  # (N,)\n",
    "X = X[..., np.newaxis].astype(np.uint8)         # (N, H, W, 1)\n",
    "\n",
    "print(\"Dataset total:\", X.shape, \"Etiquetas:\", y.shape)\n",
    "print(\"Distribución de clases:\", {label_to_name[i]: int((y==i).sum()) for i in np.unique(y)})\n"
   ]
  },
  {
   "cell_type": "code",
   "execution_count": 7,
   "id": "fa04aae2",
   "metadata": {},
   "outputs": [
    {
     "name": "stdout",
     "output_type": "stream",
     "text": [
      "Tamaños -> train: 2144 | val: 460 | test: 460\n",
      "Clases: ['Meningioma', 'Glioma', 'Adenoma_hipofisario']\n"
     ]
    }
   ],
   "source": [
    "X_train, X_tmp, y_train, y_tmp = train_test_split(\n",
    "    X, y, test_size=0.30, stratify=y, random_state=42\n",
    ")\n",
    "X_val, X_test, y_val, y_test = train_test_split(\n",
    "    X_tmp, y_tmp, test_size=0.50, stratify=y_tmp, random_state=42\n",
    ")\n",
    "\n",
    "num_classes = len(np.unique(y))\n",
    "print(f\"Tamaños -> train: {len(y_train)} | val: {len(y_val)} | test: {len(y_test)}\")\n",
    "print(\"Clases:\", [label_to_name[i] for i in sorted(np.unique(y))])\n"
   ]
  },
  {
   "cell_type": "code",
   "execution_count": 8,
   "id": "7b32a6e9",
   "metadata": {},
   "outputs": [],
   "source": [
    "def to_rgb_and_scale(image, label):\n",
    "    image = tf.image.convert_image_dtype(image, tf.float32)  # [0,1]\n",
    "    image = tf.image.grayscale_to_rgb(image)                 # (H,W,1)->(H,W,3)\n",
    "    return image, label\n",
    "\n",
    "data_augmentation = keras.Sequential([\n",
    "    layers.RandomFlip(\"horizontal_and_vertical\"),\n",
    "    layers.RandomRotation(0.05),\n",
    "    layers.RandomZoom(0.10),\n",
    "])\n",
    "\n",
    "def make_tfds(X, y, shuffle=False, augment=False):\n",
    "    ds = tf.data.Dataset.from_tensor_slices((X, y))\n",
    "    if shuffle:\n",
    "        ds = ds.shuffle(buffer_size=len(y), seed=42, reshuffle_each_iteration=True)\n",
    "    ds = ds.map(to_rgb_and_scale, num_parallel_calls=AUTOTUNE)\n",
    "    if augment:\n",
    "        ds = ds.map(lambda img, lbl: (data_augmentation(img, training=True), lbl),\n",
    "                    num_parallel_calls=AUTOTUNE)\n",
    "    return ds.batch(batch).cache().prefetch(AUTOTUNE)\n",
    "\n",
    "train_ds = make_tfds(X_train, y_train, shuffle=True,  augment=True)\n",
    "val_ds   = make_tfds(X_val,   y_val,   shuffle=False, augment=False)\n",
    "test_ds  = make_tfds(X_test,  y_test,  shuffle=False, augment=False)\n"
   ]
  },
  {
   "cell_type": "markdown",
   "id": "e911f9d7",
   "metadata": {},
   "source": [
    "# Modelo"
   ]
  },
  {
   "cell_type": "code",
   "execution_count": null,
   "id": "411023d0",
   "metadata": {},
   "outputs": [
    {
     "name": "stdout",
     "output_type": "stream",
     "text": [
      "Model: \"sequential_1\"\n",
      "_________________________________________________________________\n",
      " Layer (type)                Output Shape              Param #   \n",
      "=================================================================\n",
      " conv2d (Conv2D)             (None, 128, 128, 32)      896       \n",
      "                                                                 \n",
      " batch_normalization (BatchN  (None, 128, 128, 32)     128       \n",
      " ormalization)                                                   \n",
      "                                                                 \n",
      " leaky_re_lu (LeakyReLU)     (None, 128, 128, 32)      0         \n",
      "                                                                 \n",
      " max_pooling2d (MaxPooling2D  (None, 64, 64, 32)       0         \n",
      " )                                                               \n",
      "                                                                 \n",
      " conv2d_1 (Conv2D)           (None, 64, 64, 64)        18496     \n",
      "                                                                 \n",
      " batch_normalization_1 (Batc  (None, 64, 64, 64)       256       \n",
      " hNormalization)                                                 \n",
      "                                                                 \n",
      " leaky_re_lu_1 (LeakyReLU)   (None, 64, 64, 64)        0         \n",
      "                                                                 \n",
      " max_pooling2d_1 (MaxPooling  (None, 32, 32, 64)       0         \n",
      " 2D)                                                             \n",
      "                                                                 \n",
      " conv2d_2 (Conv2D)           (None, 32, 32, 128)       73856     \n",
      "                                                                 \n",
      " batch_normalization_2 (Batc  (None, 32, 32, 128)      512       \n",
      " hNormalization)                                                 \n",
      "                                                                 \n",
      " leaky_re_lu_2 (LeakyReLU)   (None, 32, 32, 128)       0         \n",
      "                                                                 \n",
      " max_pooling2d_2 (MaxPooling  (None, 16, 16, 128)      0         \n",
      " 2D)                                                             \n",
      "                                                                 \n",
      " global_average_pooling2d (G  (None, 128)              0         \n",
      " lobalAveragePooling2D)                                          \n",
      "                                                                 \n",
      " batch_normalization_3 (Batc  (None, 128)              512       \n",
      " hNormalization)                                                 \n",
      "                                                                 \n",
      " dense (Dense)               (None, 256)               33024     \n",
      "                                                                 \n",
      " leaky_re_lu_3 (LeakyReLU)   (None, 256)               0         \n",
      "                                                                 \n",
      " batch_normalization_4 (Batc  (None, 256)              1024      \n",
      " hNormalization)                                                 \n",
      "                                                                 \n",
      " dropout (Dropout)           (None, 256)               0         \n",
      "                                                                 \n",
      " dense_1 (Dense)             (None, 128)               32896     \n",
      "                                                                 \n",
      " leaky_re_lu_4 (LeakyReLU)   (None, 128)               0         \n",
      "                                                                 \n",
      " batch_normalization_5 (Batc  (None, 128)              512       \n",
      " hNormalization)                                                 \n",
      "                                                                 \n",
      " dropout_1 (Dropout)         (None, 128)               0         \n",
      "                                                                 \n",
      " dense_2 (Dense)             (None, 3)                 387       \n",
      "                                                                 \n",
      "=================================================================\n",
      "Total params: 162,499\n",
      "Trainable params: 161,027\n",
      "Non-trainable params: 1,472\n",
      "_________________________________________________________________\n"
     ]
    }
   ],
   "source": [
    "model = Sequential([\n",
    "    layers.Input(shape=img_size + (3,)),  # ya normalizado a [0,1] y en RGB\n",
    "\n",
    "    layers.Conv2D(32, 3, padding=\"same\", kernel_initializer=\"he_uniform\"),\n",
    "    layers.BatchNormalization(),\n",
    "    layers.LeakyReLU(alpha=0.1),\n",
    "    layers.MaxPooling2D(),\n",
    "\n",
    "    layers.Conv2D(64, 3, padding=\"same\", kernel_initializer=\"he_uniform\"),\n",
    "    layers.BatchNormalization(),\n",
    "    layers.LeakyReLU(alpha=0.1),\n",
    "    layers.MaxPooling2D(),\n",
    "\n",
    "    layers.Conv2D(128, 3, padding=\"same\", kernel_initializer=\"he_uniform\"),\n",
    "    layers.BatchNormalization(),\n",
    "    layers.LeakyReLU(alpha=0.1),\n",
    "    layers.MaxPooling2D(),\n",
    "\n",
    "    layers.GlobalAveragePooling2D(),\n",
    "    layers.BatchNormalization(),\n",
    "\n",
    "    layers.Dense(256, kernel_initializer=\"he_uniform\"),\n",
    "    layers.LeakyReLU(alpha=0.1),\n",
    "    layers.BatchNormalization(),\n",
    "    layers.Dropout(0.30),\n",
    "\n",
    "    layers.Dense(128, kernel_initializer=\"he_uniform\"),\n",
    "    layers.LeakyReLU(alpha=0.1),\n",
    "    layers.BatchNormalization(),\n",
    "    layers.Dropout(0.20),\n",
    "\n",
    "    layers.Dense(num_classes, activation=\"softmax\"),\n",
    "])\n",
    "\n",
    "lr_schedule = keras.optimizers.schedules.ExponentialDecay(\n",
    "    initial_learning_rate=0.001, decay_steps=1000, decay_rate=0.9, staircase=False\n",
    ")\n",
    "optimizer = keras.optimizers.Adam(learning_rate=lr_schedule)\n",
    "\n",
    "model.compile(optimizer=optimizer,\n",
    "            loss=keras.losses.SparseCategoricalCrossentropy(),\n",
    "            metrics=[\"accuracy\"])\n",
    "\n",
    "model.summary()\n"
   ]
  },
  {
   "cell_type": "markdown",
   "id": "23d07586",
   "metadata": {},
   "source": [
    "# Entrenamiento"
   ]
  },
  {
   "cell_type": "code",
   "execution_count": 10,
   "id": "3b3a51e8",
   "metadata": {},
   "outputs": [
    {
     "name": "stdout",
     "output_type": "stream",
     "text": [
      "Epoch 1/30\n",
      "67/67 [==============================] - 20s 274ms/step - loss: 0.8251 - accuracy: 0.6782 - val_loss: 1.0979 - val_accuracy: 0.3043\n",
      "Epoch 2/30\n",
      "67/67 [==============================] - 18s 267ms/step - loss: 0.6497 - accuracy: 0.7486 - val_loss: 1.1644 - val_accuracy: 0.3043\n",
      "Epoch 3/30\n",
      "67/67 [==============================] - 15s 220ms/step - loss: 0.5788 - accuracy: 0.7757 - val_loss: 1.2966 - val_accuracy: 0.3043\n",
      "Epoch 4/30\n",
      "67/67 [==============================] - 16s 245ms/step - loss: 0.5384 - accuracy: 0.7822 - val_loss: 1.2613 - val_accuracy: 0.3196\n",
      "Epoch 5/30\n",
      "67/67 [==============================] - 19s 278ms/step - loss: 0.5110 - accuracy: 0.8032 - val_loss: 1.0977 - val_accuracy: 0.3783\n",
      "Epoch 6/30\n",
      "67/67 [==============================] - 17s 251ms/step - loss: 0.4922 - accuracy: 0.8069 - val_loss: 1.1563 - val_accuracy: 0.3391\n",
      "Epoch 7/30\n",
      "67/67 [==============================] - 16s 239ms/step - loss: 0.4538 - accuracy: 0.8181 - val_loss: 1.5596 - val_accuracy: 0.4326\n",
      "Epoch 8/30\n",
      "67/67 [==============================] - 19s 277ms/step - loss: 0.4240 - accuracy: 0.8326 - val_loss: 0.8542 - val_accuracy: 0.6565\n",
      "Epoch 9/30\n",
      "67/67 [==============================] - 17s 259ms/step - loss: 0.3934 - accuracy: 0.8377 - val_loss: 0.6193 - val_accuracy: 0.7522\n",
      "Epoch 10/30\n",
      "67/67 [==============================] - 19s 291ms/step - loss: 0.3736 - accuracy: 0.8503 - val_loss: 0.6984 - val_accuracy: 0.7565\n",
      "Epoch 11/30\n",
      "67/67 [==============================] - 26s 395ms/step - loss: 0.3619 - accuracy: 0.8433 - val_loss: 4.7447 - val_accuracy: 0.4152\n",
      "Epoch 12/30\n",
      "67/67 [==============================] - 18s 267ms/step - loss: 0.3503 - accuracy: 0.8610 - val_loss: 1.3246 - val_accuracy: 0.5696\n",
      "Epoch 13/30\n",
      "67/67 [==============================] - 18s 270ms/step - loss: 0.3279 - accuracy: 0.8689 - val_loss: 1.0882 - val_accuracy: 0.6913\n",
      "Epoch 14/30\n",
      "67/67 [==============================] - 26s 392ms/step - loss: 0.3060 - accuracy: 0.8862 - val_loss: 6.4557 - val_accuracy: 0.4717\n",
      "Epoch 15/30\n",
      "67/67 [==============================] - 20s 293ms/step - loss: 0.2796 - accuracy: 0.8899 - val_loss: 8.9100 - val_accuracy: 0.4630\n",
      "Epoch 16/30\n",
      "67/67 [==============================] - 21s 311ms/step - loss: 0.2379 - accuracy: 0.9123 - val_loss: 11.6925 - val_accuracy: 0.4652\n",
      "Epoch 17/30\n",
      "67/67 [==============================] - 19s 284ms/step - loss: 0.2179 - accuracy: 0.9165 - val_loss: 3.0475 - val_accuracy: 0.5413\n",
      "Epoch 18/30\n",
      "67/67 [==============================] - 17s 262ms/step - loss: 0.2018 - accuracy: 0.9268 - val_loss: 1.0422 - val_accuracy: 0.6978\n",
      "Epoch 19/30\n",
      "67/67 [==============================] - 18s 263ms/step - loss: 0.2047 - accuracy: 0.9254 - val_loss: 3.3096 - val_accuracy: 0.5565\n",
      "Epoch 20/30\n",
      "67/67 [==============================] - 17s 259ms/step - loss: 0.1885 - accuracy: 0.9296 - val_loss: 4.2897 - val_accuracy: 0.5326\n",
      "Epoch 21/30\n",
      "67/67 [==============================] - 18s 268ms/step - loss: 0.1529 - accuracy: 0.9450 - val_loss: 13.8335 - val_accuracy: 0.4652\n",
      "Epoch 22/30\n",
      "67/67 [==============================] - 17s 261ms/step - loss: 0.1779 - accuracy: 0.9361 - val_loss: 3.2784 - val_accuracy: 0.6652\n",
      "Epoch 23/30\n",
      "67/67 [==============================] - 18s 262ms/step - loss: 0.1588 - accuracy: 0.9403 - val_loss: 1.6451 - val_accuracy: 0.6696\n",
      "Epoch 24/30\n",
      "67/67 [==============================] - 18s 266ms/step - loss: 0.1210 - accuracy: 0.9548 - val_loss: 4.8976 - val_accuracy: 0.6152\n",
      "Epoch 25/30\n",
      "67/67 [==============================] - 25s 377ms/step - loss: 0.1132 - accuracy: 0.9613 - val_loss: 3.2337 - val_accuracy: 0.6609\n",
      "Epoch 26/30\n",
      "67/67 [==============================] - 19s 283ms/step - loss: 0.0929 - accuracy: 0.9669 - val_loss: 10.5666 - val_accuracy: 0.3891\n",
      "Epoch 27/30\n",
      "67/67 [==============================] - 19s 285ms/step - loss: 0.0872 - accuracy: 0.9706 - val_loss: 1.6018 - val_accuracy: 0.6196\n",
      "Epoch 28/30\n",
      "67/67 [==============================] - 19s 289ms/step - loss: 0.0824 - accuracy: 0.9683 - val_loss: 12.6212 - val_accuracy: 0.4652\n",
      "Epoch 29/30\n",
      "67/67 [==============================] - 19s 286ms/step - loss: 0.0689 - accuracy: 0.9771 - val_loss: 21.0817 - val_accuracy: 0.4652\n",
      "Epoch 30/30\n",
      "67/67 [==============================] - 19s 288ms/step - loss: 0.0469 - accuracy: 0.9874 - val_loss: 4.8813 - val_accuracy: 0.5000\n"
     ]
    }
   ],
   "source": [
    "# Entrena el modelo registrando métricas en history para análisis posterior\n",
    "history = model.fit(train_ds, validation_data=val_ds, epochs=30)"
   ]
  },
  {
   "cell_type": "markdown",
   "id": "f6d90928",
   "metadata": {},
   "source": [
    "# Evaluación objetiva en el conjunto de test"
   ]
  },
  {
   "cell_type": "code",
   "execution_count": 11,
   "id": "42589403",
   "metadata": {},
   "outputs": [
    {
     "name": "stdout",
     "output_type": "stream",
     "text": [
      "15/15 [==============================] - 1s 68ms/step - loss: 4.7389 - accuracy: 0.5109\n",
      "Test — loss: 4.7389  acc: 0.5109\n"
     ]
    }
   ],
   "source": [
    "test_loss, test_acc = model.evaluate(test_ds)\n",
    "print(f\"Test — loss: {test_loss:.4f}  acc: {test_acc:.4f}\")"
   ]
  },
  {
   "cell_type": "markdown",
   "id": "389ddb69",
   "metadata": {},
   "source": [
    "# Métricas"
   ]
  },
  {
   "cell_type": "code",
   "execution_count": 12,
   "id": "7bb3e696",
   "metadata": {},
   "outputs": [
    {
     "name": "stdout",
     "output_type": "stream",
     "text": [
      "15/15 [==============================] - 2s 80ms/step\n",
      "Confusion matrix:\n",
      " [[ 18  88   1]\n",
      " [  1 212   1]\n",
      " [  0 134   5]]\n"
     ]
    }
   ],
   "source": [
    "# y_true: concatena las etiquetas reales de cada batch del test\n",
    "y_true = np.concatenate([y.numpy() for _, y in test_ds], axis=0)\n",
    "\n",
    "# y_pred: para cada imagen, argmax de las probabilidades softmax -> clase predicha\n",
    "y_pred = np.argmax(model.predict(test_ds), axis=1)\n",
    "\n",
    "# Genera la matriz de confusión (filas: clase real, columnas: predicción)\n",
    "cm = tf.math.confusion_matrix(y_true, y_pred, num_classes=len(class_names))\n",
    "print(\"Confusion matrix:\\n\", cm.numpy())"
   ]
  },
  {
   "cell_type": "code",
   "execution_count": 13,
   "id": "82684d70",
   "metadata": {},
   "outputs": [],
   "source": [
    "# %%\n",
    "# out_base = Path(\"preprocessed_data_por_tumor\")\n",
    "# for lab, name in label_to_name.items():\n",
    "#     imgs = np.array(data_by_tumor.get(lab, []), dtype=np.uint8)\n",
    "#     labs = np.array(labels_by_tumor.get(lab, []), dtype=np.int32)\n",
    "#     if imgs.size:\n",
    "#         (out_base / name).mkdir(parents=True, exist_ok=True)\n",
    "#         np.savez_compressed(out_base / name / f\"{name}_preprocessed.npz\",\n",
    "#                             images=imgs, labels=labs)\n",
    "#         print(f\"Guardado -> {name}: {len(imgs)} imágenes\")\n"
   ]
  }
 ],
 "metadata": {
  "kernelspec": {
   "display_name": "tf_fix",
   "language": "python",
   "name": "python3"
  },
  "language_info": {
   "codemirror_mode": {
    "name": "ipython",
    "version": 3
   },
   "file_extension": ".py",
   "mimetype": "text/x-python",
   "name": "python",
   "nbconvert_exporter": "python",
   "pygments_lexer": "ipython3",
   "version": "3.9.15"
  }
 },
 "nbformat": 4,
 "nbformat_minor": 5
}
